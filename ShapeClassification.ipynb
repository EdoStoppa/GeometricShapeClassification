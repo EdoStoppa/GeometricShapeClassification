{
 "cells": [
  {
   "cell_type": "markdown",
   "metadata": {},
   "source": [
    "## Welcome!\n",
    "\n",
    "Before running everything, check that you have everything that needs to be imported.\n",
    "If you lack something, you can create a new block code after this, and use for all the items needed the command <br />\n",
    "`%pip install MISSING_LIBRARY_NAME -q`"
   ]
  },
  {
   "cell_type": "code",
   "execution_count": 67,
   "metadata": {},
   "outputs": [],
   "source": [
    "# Basic Python imports\n",
    "import os\n",
    "from os.path import normpath, basename\n",
    "import shutil\n",
    "from collections import Counter\n",
    "\n",
    "# Torch related import\n",
    "import torch\n",
    "import torchvision\n",
    "import torchvision.transforms as transforms\n",
    "import torch.nn as nn\n",
    "import torch.nn.functional as F\n",
    "\n",
    "# Everything else\n",
    "import matplotlib.pyplot as plt\n",
    "import numpy as np\n",
    "import seaborn as sns\n",
    "from sklearn.model_selection import train_test_split"
   ]
  },
  {
   "cell_type": "code",
   "execution_count": 16,
   "metadata": {},
   "outputs": [
    {
     "name": "stdout",
     "output_type": "stream",
     "text": [
      "Directories\n",
      "\n",
      "Project Root: .\n",
      "Data Root: .\\data\n",
      "Data Zip: .\\data\\geometry_dataset.zip\n",
      "Data Dataset: .\\data\\geometry_dataset\n"
     ]
    }
   ],
   "source": [
    "PRJ_ROOT = '.'\n",
    "DATA_ROOT = os.path.join(PRJ_ROOT, 'data')\n",
    "DATA_ZIP = os.path.join(DATA_ROOT, 'geometry_dataset.zip')\n",
    "DATA_PATH = os.path.join(DATA_ROOT, 'geometry_dataset')\n",
    "\n",
    "print('Directories\\n')\n",
    "print(f'Project Root: {PRJ_ROOT}')\n",
    "print(f'Data Root: {DATA_ROOT}')\n",
    "print(f'Data Zip: {DATA_ZIP}')\n",
    "print(f'Data Dataset: {DATA_PATH}')"
   ]
  },
  {
   "cell_type": "markdown",
   "metadata": {},
   "source": [
    "Before doing anything else, we need to extract the dataset from the zip file `data/geometry_dataset.zip`. <br />\n",
    "If for some reasons there's any king of problem with this, simply extract it manually into the folder `data`."
   ]
  },
  {
   "cell_type": "code",
   "execution_count": 13,
   "metadata": {},
   "outputs": [],
   "source": [
    "shutil.unpack_archive(DATA_ZIP, DATA_ROOT)"
   ]
  },
  {
   "cell_type": "code",
   "execution_count": 18,
   "metadata": {},
   "outputs": [],
   "source": [
    "def subdir_counts(folder):\n",
    "    counts = {}\n",
    "    for root, dirs, files in os.walk(folder, topdown=False):\n",
    "        if len(files)>0:\n",
    "            short_root = basename(normpath(root))\n",
    "            counts[short_root]=len(files)\n",
    "    return counts"
   ]
  },
  {
   "cell_type": "code",
   "execution_count": 25,
   "metadata": {},
   "outputs": [
    {
     "name": "stdout",
     "output_type": "stream",
     "text": [
      "Number of files in data folder\n",
      "\n",
      "Circle: \t10000\n",
      "Heptagon: \t10000\n",
      "Hexagon: \t10000\n",
      "Nonagon: \t10000\n",
      "Octagon: \t10000\n",
      "Pentagon: \t10000\n",
      "Square: \t10000\n",
      "Star: \t\t10000\n",
      "Triangle: \t10000\n"
     ]
    }
   ],
   "source": [
    "print('Number of files in data folder\\n')\n",
    "counts = subdir_counts(DATA_PATH)\n",
    "\n",
    "for typ, count in counts.items():\n",
    "    print(f'{typ}: ' + ('\\t' if len(typ)>=6 else '\\t\\t') + f'{count}')"
   ]
  },
  {
   "cell_type": "markdown",
   "metadata": {},
   "source": [
    "# Dataset"
   ]
  },
  {
   "cell_type": "code",
   "execution_count": 26,
   "metadata": {},
   "outputs": [],
   "source": [
    "DATA_PATH = os.path.join(DATA_ROOT, 'geometry_dataset')"
   ]
  },
  {
   "cell_type": "markdown",
   "metadata": {},
   "source": [
    "### Dataset preprocessing\n",
    "Thankfully there's not much to do in this section, we only need to normalize the images when are loaded into the dataset object. <br />\n",
    "To do that we use the `transforms.Normalize()` function,"
   ]
  },
  {
   "cell_type": "code",
   "execution_count": 28,
   "metadata": {},
   "outputs": [],
   "source": [
    "transform = transforms.Compose([\n",
    "                transforms.ToTensor(),\n",
    "                transforms.Normalize((0.5, 0.5, 0.5), (0.5, 0.5, 0.5))\n",
    "            ])\n",
    "dataset = torchvision.datasets.ImageFolder(DATA_PATH, transform=transform)"
   ]
  },
  {
   "cell_type": "code",
   "execution_count": 29,
   "metadata": {},
   "outputs": [],
   "source": [
    "classes = dataset.classes"
   ]
  },
  {
   "cell_type": "code",
   "execution_count": 30,
   "metadata": {},
   "outputs": [],
   "source": [
    "def imshow(data, classes):\n",
    "    img, label_idx = data\n",
    "    img = img / 2 + 0.5 # Unnormalize\n",
    "    npimg = img.numpy()\n",
    "    plt.title(classes[label_idx])\n",
    "    plt.imshow(np.transpose(npimg, (1, 2, 0)))\n",
    "    plt.show()"
   ]
  },
  {
   "cell_type": "code",
   "execution_count": 31,
   "metadata": {},
   "outputs": [
    {
     "data": {
      "image/png": "[encoded data removed]",
      "text/plain": [
       "<Figure size 432x288 with 1 Axes>"
      ]
     },
     "metadata": {
      "needs_background": "light"
     },
     "output_type": "display_data"
    }
   ],
   "source": [
    "imshow(dataset[0], classes)"
   ]
  },
  {
   "cell_type": "code",
   "execution_count": 32,
   "metadata": {},
   "outputs": [
    {
     "data": {
      "text/plain": [
       "(3, 200, 200)"
      ]
     },
     "execution_count": 32,
     "metadata": {},
     "output_type": "execute_result"
    }
   ],
   "source": [
    "dataset[0][0].numpy().shape"
   ]
  },
  {
   "cell_type": "markdown",
   "metadata": {},
   "source": [
    "### Train-Test Split"
   ]
  },
  {
   "cell_type": "code",
   "execution_count": 33,
   "metadata": {},
   "outputs": [],
   "source": [
    "TEST_SIZE = 0.2\n",
    "VAL_SIZE = 0.2"
   ]
  },
  {
   "cell_type": "code",
   "execution_count": 34,
   "metadata": {},
   "outputs": [],
   "source": [
    "indices = list(range(len(dataset)))\n",
    "targets = dataset.targets\n",
    "\n",
    "train_val_indices,test_indices = train_test_split(indices,test_size=TEST_SIZE, stratify=targets)"
   ]
  },
  {
   "cell_type": "code",
   "execution_count": 35,
   "metadata": {},
   "outputs": [],
   "source": [
    "class ImageSubset(torch.utils.data.Dataset):\n",
    "    def __init__(self, dataset, indices, labels):\n",
    "        self.dataset = torch.utils.data.Subset(dataset, indices)\n",
    "        self.targets = labels\n",
    "        \n",
    "    def __getitem__(self, idx):\n",
    "        image = self.dataset[idx][0]\n",
    "        target = self.targets[idx]\n",
    "        return (image, target)\n",
    "        \n",
    "    def __len__(self):\n",
    "        return len(self.targets)"
   ]
  },
  {
   "cell_type": "code",
   "execution_count": 36,
   "metadata": {},
   "outputs": [],
   "source": [
    "train_val_set = ImageSubset(dataset, train_val_indices, np.array(targets)[train_val_indices])\n",
    "test_set      = ImageSubset(dataset, test_indices, np.array(targets)[test_indices])"
   ]
  },
  {
   "cell_type": "code",
   "execution_count": 73,
   "metadata": {},
   "outputs": [],
   "source": [
    "def count_classes(dataset, classes):\n",
    "    for c, count in sorted(dict(Counter(dataset.targets)).items()):\n",
    "        print(f'{classes[c]}:' + ('\\t' if len(classes[c])>6 else '\\t\\t') + f'{count}')"
   ]
  },
  {
   "cell_type": "code",
   "execution_count": 76,
   "metadata": {},
   "outputs": [
    {
     "name": "stdout",
     "output_type": "stream",
     "text": [
      "Distribution of classes in train_val_set\n",
      "\n",
      "Circle:\t\t8000\n",
      "Heptagon:\t8000\n",
      "Hexagon:\t8000\n",
      "Nonagon:\t8000\n",
      "Octagon:\t8000\n",
      "Pentagon:\t8000\n",
      "Square:\t\t8000\n",
      "Star:\t\t8000\n",
      "Triangle:\t8000\n"
     ]
    }
   ],
   "source": [
    "print('Distribution of classes in train_val_set\\n')\n",
    "count_classes(train_val_set, classes)"
   ]
  },
  {
   "cell_type": "code",
   "execution_count": 77,
   "metadata": {},
   "outputs": [
    {
     "name": "stdout",
     "output_type": "stream",
     "text": [
      "Distribution of classes in test_set\n",
      "\n",
      "Circle:\t\t2000\n",
      "Heptagon:\t2000\n",
      "Hexagon:\t2000\n",
      "Nonagon:\t2000\n",
      "Octagon:\t2000\n",
      "Pentagon:\t2000\n",
      "Square:\t\t2000\n",
      "Star:\t\t2000\n",
      "Triangle:\t2000\n"
     ]
    }
   ],
   "source": [
    "print('Distribution of classes in test_set\\n')\n",
    "count_classes(test_set, classes)"
   ]
  },
  {
   "cell_type": "markdown",
   "metadata": {},
   "source": [
    "Now we need to still divide the train_val dataset into a pure *training set* and into a *validation set*"
   ]
  },
  {
   "cell_type": "code",
   "execution_count": 40,
   "metadata": {},
   "outputs": [],
   "source": [
    "train_val_indices = list(range(len(train_val_set)))\n",
    "train_val_targets = train_val_set.targets\n",
    "\n",
    "train_indices, val_indices = train_test_split(train_val_indices, test_size=VAL_SIZE, stratify=train_val_targets)"
   ]
  },
  {
   "cell_type": "code",
   "execution_count": 41,
   "metadata": {},
   "outputs": [],
   "source": [
    "train_set = ImageSubset(train_val_set, train_indices, np.array(train_val_targets)[train_indices])\n",
    "val_set = ImageSubset(train_val_set, val_indices, np.array(train_val_targets)[val_indices])"
   ]
  },
  {
   "cell_type": "code",
   "execution_count": 42,
   "metadata": {},
   "outputs": [
    {
     "name": "stdout",
     "output_type": "stream",
     "text": [
      "Distribution of classes in train_set\n",
      "Circle: 6400\n",
      "Heptagon: 6400\n",
      "Hexagon: 6400\n",
      "Nonagon: 6400\n",
      "Octagon: 6400\n",
      "Pentagon: 6400\n",
      "Square: 6400\n",
      "Star: 6400\n",
      "Triangle: 6400\n"
     ]
    }
   ],
   "source": [
    "print('Distribution of classes in train_set')\n",
    "count_classes(train_set, classes)"
   ]
  },
  {
   "cell_type": "code",
   "execution_count": 43,
   "metadata": {},
   "outputs": [
    {
     "name": "stdout",
     "output_type": "stream",
     "text": [
      "Distribution of classes in val_set\n",
      "Circle: 1600\n",
      "Heptagon: 1600\n",
      "Hexagon: 1600\n",
      "Nonagon: 1600\n",
      "Octagon: 1600\n",
      "Pentagon: 1600\n",
      "Square: 1600\n",
      "Star: 1600\n",
      "Triangle: 1600\n"
     ]
    }
   ],
   "source": [
    "print('Distribution of classes in val_set')\n",
    "count_classes(val_set, classes)"
   ]
  },
  {
   "cell_type": "markdown",
   "metadata": {},
   "source": [
    "### Hyperparameters"
   ]
  },
  {
   "cell_type": "code",
   "execution_count": 53,
   "metadata": {},
   "outputs": [],
   "source": [
    "BATCH_SIZE = 32\n",
    "NUM_WORKERS = 0\n",
    "\n",
    "LEARNING_RATE = 0.001\n",
    "\n",
    "EPOCHS = 12\n",
    "PRINT_EVERY = 10\n",
    "VALID_LOSS_MIN = np.Inf\n",
    "\n",
    "MODEL_PATH = os.path.join(PRJ_ROOT, 'model')\n",
    "if 'model' not in os.listdir(PRJ_ROOT):\n",
    "    os.makedirs(MODEL_PATH)"
   ]
  },
  {
   "cell_type": "code",
   "execution_count": 45,
   "metadata": {},
   "outputs": [
    {
     "name": "stdout",
     "output_type": "stream",
     "text": [
      "cuda:0\n"
     ]
    }
   ],
   "source": [
    "device = torch.device(\"cuda:0\" if torch.cuda.is_available() else \"cpu\")\n",
    "print(device)"
   ]
  },
  {
   "cell_type": "markdown",
   "metadata": {},
   "source": [
    "### Dataloader"
   ]
  },
  {
   "cell_type": "code",
   "execution_count": 46,
   "metadata": {},
   "outputs": [],
   "source": [
    "train_dl = torch.utils.data.DataLoader(train_set, batch_size=BATCH_SIZE, shuffle=True, num_workers=NUM_WORKERS)\n",
    "val_dl   = torch.utils.data.DataLoader(val_set, batch_size=BATCH_SIZE, shuffle=True, num_workers=NUM_WORKERS)\n",
    "test_dl  = torch.utils.data.DataLoader(test_set, batch_size=BATCH_SIZE, shuffle=False, num_workers=NUM_WORKERS)"
   ]
  },
  {
   "cell_type": "markdown",
   "metadata": {},
   "source": [
    "### Model"
   ]
  },
  {
   "cell_type": "code",
   "execution_count": 47,
   "metadata": {},
   "outputs": [
    {
     "data": {
      "text/plain": [
       "Net(\n",
       "  (conv1): Conv2d(3, 6, kernel_size=(5, 5), stride=(1, 1))\n",
       "  (pool): MaxPool2d(kernel_size=4, stride=4, padding=0, dilation=1, ceil_mode=False)\n",
       "  (conv2): Conv2d(6, 16, kernel_size=(5, 5), stride=(1, 1))\n",
       "  (fc1): Linear(in_features=1936, out_features=200, bias=True)\n",
       "  (fc2): Linear(in_features=200, out_features=84, bias=True)\n",
       "  (fc3): Linear(in_features=84, out_features=9, bias=True)\n",
       ")"
      ]
     },
     "execution_count": 47,
     "metadata": {},
     "output_type": "execute_result"
    }
   ],
   "source": [
    "class Net(nn.Module):\n",
    "    def __init__(self): \n",
    "        super().__init__()\n",
    "        # Convoution layers\n",
    "        self.conv1 = nn.Conv2d(3, 6, 5)\n",
    "        self.conv2 = nn.Conv2d(6, 16, 5)\n",
    "\n",
    "        # Max Pooling layer\n",
    "        self.pool = nn.MaxPool2d(4, 4)\n",
    "\n",
    "        # Fully connected layers\n",
    "        self.fc1 = nn.Linear(1936, 200)\n",
    "        self.fc2 = nn.Linear(200, 84)\n",
    "        self.fc3 = nn.Linear(84, 9)\n",
    "\n",
    "    def forward(self, x):\n",
    "        x = self.pool(F.relu(self.conv1(x)))\n",
    "        x = self.pool(F.relu(self.conv2(x)))\n",
    "        x = torch.flatten(x, 1) # Flatten all dimensions except batch\n",
    "        x = F.relu(self.fc1(x))\n",
    "        x = F.relu(self.fc2(x))\n",
    "        x = self.fc3(x)\n",
    "        return x\n",
    "\n",
    "net = Net()\n",
    "net.to(device)"
   ]
  },
  {
   "cell_type": "markdown",
   "metadata": {},
   "source": [
    "### Training"
   ]
  },
  {
   "cell_type": "code",
   "execution_count": 48,
   "metadata": {},
   "outputs": [],
   "source": [
    "criterion = nn.CrossEntropyLoss()\n",
    "optimizer = torch.optim.Adam(net.parameters(), lr=LEARNING_RATE)"
   ]
  },
  {
   "cell_type": "code",
   "execution_count": 49,
   "metadata": {},
   "outputs": [],
   "source": [
    "def get_num_correct(preds, labels):\n",
    "    return preds.argmax(dim=1).eq(labels).sum().item()"
   ]
  },
  {
   "cell_type": "code",
   "execution_count": null,
   "metadata": {},
   "outputs": [],
   "source": [
    "model = net\n",
    "val_loss = []\n",
    "val_acc = []\n",
    "train_loss = []\n",
    "train_acc = []\n",
    "total_step = len(train_dl)\n",
    "\n",
    "for epoch in range(1, EPOCHS+1):\n",
    "    running_loss = 0.0\n",
    "    correct = 0\n",
    "    total=0\n",
    "\n",
    "    print(f'Epoch {epoch}\\n')\n",
    "    for batch_idx, (data_, target_) in enumerate(train_dl):\n",
    "        data_, target_ = data_.to(device), target_.type(torch.LongTensor).to(device)\n",
    "\n",
    "        # Zero the parameter gradients\n",
    "        optimizer.zero_grad()\n",
    "\n",
    "        # Forward + backward + optimize\n",
    "        outputs = model(data_)\n",
    "        loss = criterion(outputs, target_)\n",
    "        loss.backward()\n",
    "        optimizer.step()\n",
    "\n",
    "        # Print statistics\n",
    "        running_loss += loss.item()\n",
    "        _,pred = torch.max(outputs, dim=1)\n",
    "        correct += torch.sum(pred==target_).item()\n",
    "        total += target_.size(0)\n",
    "\n",
    "        if (batch_idx) % 20 == 0:\n",
    "            print(f'Epoch [{epoch}/{EPOCHS}], Step [{batch_idx}/{total_step}], Loss: {loss.item():.4f}')\n",
    "\n",
    "    train_acc.append(100 * correct / total)\n",
    "    train_loss.append(running_loss/total_step)\n",
    "    print(f'\\ntrain loss: {np.mean(train_loss):.4f}, train acc: {(100 * correct / total):.4f}')\n",
    "\n",
    "    batch_loss = 0\n",
    "    total_t=0\n",
    "    correct_t=0\n",
    "\n",
    "    with torch.no_grad():\n",
    "        model.eval()\n",
    "        for data_t, target_t in (val_dl):\n",
    "            data_t, target_t = data_t.to(device), target_t.type(torch.LongTensor).to(device)\n",
    "            outputs_t = model(data_t)\n",
    "            loss_t = criterion(outputs_t, target_t)\n",
    "            batch_loss += loss_t.item()\n",
    "            _,pred_t = torch.max(outputs_t, dim=1)\n",
    "            correct_t += torch.sum(pred_t==target_t).item()\n",
    "            total_t += target_t.size(0)\n",
    "\n",
    "        val_acc.append(100 * correct_t / total_t)\n",
    "        val_loss.append(batch_loss/len(val_dl))\n",
    "        network_learned = batch_loss < VALID_LOSS_MIN\n",
    "        print(f'validation loss: {np.mean(val_loss):.4f}, validation acc: {(100 * correct_t / total_t):.4f}\\n')\n",
    "\n",
    "    # Saving the best weight\n",
    "    if network_learned:\n",
    "        VALID_LOSS_MIN = batch_loss\n",
    "        torch.save(model.state_dict(), os.path.join(MODEL_PATH, f'model_state_epoch_{epoch}.pt'))\n",
    "        print('Detected network improvement, saving current model')\n",
    "    \n",
    "    model.train()\n",
    "\n",
    "print('\\nTraining Complete!')"
   ]
  },
  {
   "cell_type": "code",
   "execution_count": 55,
   "metadata": {},
   "outputs": [],
   "source": [
    "metrics = [train_loss, train_acc, val_loss, val_acc]\n",
    "\n",
    "textfile = open(\"metrics.txt\", \"w\")\n",
    "\n",
    "for metric in metrics:\n",
    "    for e in metric:\n",
    "        textfile.write(str(e) + \" \")\n",
    "    textfile.write(\"\\n\")\n",
    "textfile.close()"
   ]
  },
  {
   "cell_type": "code",
   "execution_count": 62,
   "metadata": {},
   "outputs": [
    {
     "data": {
      "image/png": "[encoded data removed]",
      "text/plain": [
       "<Figure size 432x288 with 1 Axes>"
      ]
     },
     "metadata": {
      "needs_background": "light"
     },
     "output_type": "display_data"
    }
   ],
   "source": [
    "sns.lineplot(x=list(range(1,13)), y=train_loss, legend='brief', label='TrainLoss')\n",
    "sns.lineplot(x=list(range(1,13)), y=val_loss, legend='brief', label='Validation Loss')\n",
    "\n",
    "plt.title(\"Train and Validation Loss\")\n",
    "plt.xlabel(\"Epochs\")\n",
    "plt.ylabel(\"Loss\")\n",
    "\n",
    "plt.savefig('loss.png')\n",
    "plt.show()"
   ]
  },
  {
   "cell_type": "code",
   "execution_count": 61,
   "metadata": {},
   "outputs": [
    {
     "data": {
      "image/png": "[encoded data removed]",
      "text/plain": [
       "<Figure size 432x288 with 1 Axes>"
      ]
     },
     "metadata": {
      "needs_background": "light"
     },
     "output_type": "display_data"
    }
   ],
   "source": [
    "sns.lineplot(x=list(range(1,13)), y=train_acc, legend='brief', label='TrainAccuracy')\n",
    "sns.lineplot(x=list(range(1,13)), y=val_acc, legend='brief', label='Validation Accuracy')\n",
    "\n",
    "plt.title(\"Train and Validation Accuracy\")\n",
    "plt.xlabel(\"Epochs\")\n",
    "plt.ylabel(\"Accuracy\")\n",
    "\n",
    "plt.savefig('acc.png')\n",
    "plt.show()\n"
   ]
  },
  {
   "cell_type": "markdown",
   "metadata": {},
   "source": [
    "### Evaluation"
   ]
  },
  {
   "cell_type": "code",
   "execution_count": 63,
   "metadata": {},
   "outputs": [],
   "source": [
    "BEST_EPOCH = 9\n",
    "PATH = os.path.join(MODEL_PATH, f'model_state_epoch_{BEST_EPOCH}.pt')"
   ]
  },
  {
   "cell_type": "code",
   "execution_count": 64,
   "metadata": {},
   "outputs": [
    {
     "data": {
      "text/plain": [
       "Net(\n",
       "  (conv1): Conv2d(3, 6, kernel_size=(5, 5), stride=(1, 1))\n",
       "  (pool): MaxPool2d(kernel_size=4, stride=4, padding=0, dilation=1, ceil_mode=False)\n",
       "  (conv2): Conv2d(6, 16, kernel_size=(5, 5), stride=(1, 1))\n",
       "  (fc1): Linear(in_features=1936, out_features=200, bias=True)\n",
       "  (fc2): Linear(in_features=200, out_features=84, bias=True)\n",
       "  (fc3): Linear(in_features=84, out_features=9, bias=True)\n",
       ")"
      ]
     },
     "execution_count": 64,
     "metadata": {},
     "output_type": "execute_result"
    }
   ],
   "source": [
    "net = Net()\n",
    "net.load_state_dict(torch.load(PATH))\n",
    "net.to(device)"
   ]
  },
  {
   "cell_type": "code",
   "execution_count": 65,
   "metadata": {},
   "outputs": [
    {
     "name": "stdout",
     "output_type": "stream",
     "text": [
      "Accuracy of the network on the 18000 test images: 85 %\n"
     ]
    }
   ],
   "source": [
    "correct = 0\n",
    "total = 0\n",
    "\n",
    "# Since we're not training, we don't need to calculate the gradients for our\n",
    "outputs\n",
    "with torch.no_grad():\n",
    "    for data in test_dl:\n",
    "        images, labels = data[0].to(device), data[1].to(device)\n",
    "\n",
    "        # Calculate outputs by running images through the network\n",
    "        outputs = net(images)\n",
    "        \n",
    "        # The class with the highest energy is what we choose as prediction\n",
    "        _, predicted = torch.max(outputs.data, 1)\n",
    "        total += labels.size(0)\n",
    "        correct += (predicted == labels).sum().item()\n",
    "\n",
    "print('Accuracy of the network on the 18000 test images: %d %%' % (100 * correct / total))"
   ]
  },
  {
   "cell_type": "code",
   "execution_count": 66,
   "metadata": {},
   "outputs": [
    {
     "name": "stdout",
     "output_type": "stream",
     "text": [
      "Accuracy for class Circle is: 93.0 %\n",
      "Accuracy for class Heptagon is: 72.9 %\n",
      "Accuracy for class Hexagon is: 86.5 %\n",
      "Accuracy for class Nonagon is: 76.8 %\n",
      "Accuracy for class Octagon is: 65.5 %\n",
      "Accuracy for class Pentagon is: 83.1 %\n",
      "Accuracy for class Square is: 93.0 %\n",
      "Accuracy for class Star  is: 99.1 %\n",
      "Accuracy for class Triangle is: 97.3 %\n"
     ]
    }
   ],
   "source": [
    "# Prepare to count predictions for each class\n",
    "correct_pred = {classname: 0 for classname in classes}\n",
    "total_pred = {classname: 0 for classname in classes}\n",
    "\n",
    "# Again no gradients needed\n",
    "with torch.no_grad():\n",
    "    for data in test_dl:\n",
    "        images, labels = data[0].to(device), data[1].to(device)\n",
    "        outputs = net(images)\n",
    "        _, predictions = torch.max(outputs, 1)\n",
    "        \n",
    "        # Collect the correct predictions for each class\n",
    "        for label, prediction in zip(labels, predictions):\n",
    "            if label == prediction:\n",
    "                correct_pred[classes[label]] += 1\n",
    "            total_pred[classes[label]] += 1\n",
    "\n",
    "# Print accuracy for each class\n",
    "for classname, correct_count in correct_pred.items():\n",
    "    accuracy = 100 * float(correct_count) / total_pred[classname]\n",
    "    print(\"Accuracy for class {:5s} is: {:.1f} %\".format(classname, accuracy))"
   ]
  }
 ],
 "metadata": {
  "interpreter": {
   "hash": "2423b31adc4e5c7e619478db68d9c6947844c0ccd0ec8adf66ade40c69bbb33a"
  },
  "kernelspec": {
   "display_name": "Python 3.8.10 ('NN')",
   "language": "python",
   "name": "python3"
  },
  "language_info": {
   "codemirror_mode": {
    "name": "ipython",
    "version": 3
   },
   "file_extension": ".py",
   "mimetype": "text/x-python",
   "name": "python",
   "nbconvert_exporter": "python",
   "pygments_lexer": "ipython3",
   "version": "3.8.10"
  },
  "orig_nbformat": 4
 },
 "nbformat": 4,
 "nbformat_minor": 2
}
